{
  "cells": [
    {
      "cell_type": "markdown",
      "metadata": {
        "id": "5IztrB9U1vIg"
      },
      "source": [
        "## **Введение в визуализацию данных**"
      ]
    },
    {
      "cell_type": "markdown",
      "metadata": {
        "id": "Y_LK6TJE1vIs"
      },
      "source": [
        "### **Основы визуализации данных**"
      ]
    },
    {
      "cell_type": "markdown",
      "metadata": {
        "id": "gHzxPcH81vIt"
      },
      "source": [
        "**Визуализация данных** - это представление данных в **графическом** или **визуальном** формате (например, в виде графиков, диаграмм и т.д.) для облегчения их восприятия, анализа и интерпретации.\n",
        "\n",
        "**Основные задачи визуализации данных**:\n",
        "1) Упрощение восприятия сложной информации\n",
        "2) Выявление закономерностей и тенденций\n",
        "3) Принятие решений на основе данных\n",
        "4) Обнаружение аномалий\n",
        "5) Коммуникация и презентация идей"
      ]
    },
    {
      "cell_type": "markdown",
      "metadata": {
        "id": "Twi8WolK1vIv"
      },
      "source": [
        "В рамках данного урока мы будем работать с библиотекой `Matplotlib`."
      ]
    },
    {
      "cell_type": "markdown",
      "metadata": {
        "id": "-GA9MZt71vIw"
      },
      "source": [
        "### **Виды графиков**"
      ]
    },
    {
      "cell_type": "markdown",
      "metadata": {
        "id": "XhBmOf8_1vI2"
      },
      "source": [
        "#### **Линейные графики**"
      ]
    },
    {
      "cell_type": "markdown",
      "metadata": {
        "id": "1zNC0zj41vI2"
      },
      "source": [
        "**Линейные графики** используются для отображения данных по порядку или изменений с течением времени\n",
        "\n",
        "Пример - график температуры за неделю:\n",
        "\n",
        "![line_graph.png](attachment:line_graph.png)"
      ]
    },
    {
      "cell_type": "markdown",
      "metadata": {
        "id": "OdAjGLHw1vI3"
      },
      "source": [
        "#### **Столбчатые диаграммы**"
      ]
    },
    {
      "cell_type": "markdown",
      "metadata": {
        "id": "-aApHPKR1vI3"
      },
      "source": [
        "**Столбчатые диаграммы** используются для наглядного сравнения данных между категориями\n",
        "\n",
        "Пример - сравнение количества отзывов для разных игр:\n",
        "\n",
        "![bar_chart.png](attachment:bar_chart.png)"
      ]
    },
    {
      "cell_type": "markdown",
      "metadata": {
        "id": "8PClv0AL1vI9"
      },
      "source": [
        "#### **Круговые диаграммы**"
      ]
    },
    {
      "cell_type": "markdown",
      "metadata": {
        "id": "XTYTzM311vI-"
      },
      "source": [
        "**Круговые диаграммы** используются для наглядного представлений пропорций или долей, составляющих единое целое\n",
        "\n",
        "Пример - распределение свободного времени среди разных видов деятельности\n",
        "\n",
        "![pie_chart.png](attachment:pie_chart.png)\n"
      ]
    },
    {
      "cell_type": "markdown",
      "metadata": {
        "id": "Vc0XeoX31vJA"
      },
      "source": [
        "#### **Гистограммы**"
      ]
    },
    {
      "cell_type": "markdown",
      "metadata": {
        "id": "5rtkbcTB1vJA"
      },
      "source": [
        "**Гистограммы** используются для визуализации распределения данных. Они показывают, как данные распределены по **интервалам** и помогают понять **частоту появления** значений в этих интервалах.\n",
        "\n",
        "Гистограмма состоит из прямоугольных столбиков, где:\n",
        "- **Высота столбцов** показывает частоту (количество наблюдений) в соответствующем интервале\n",
        "- **Ширина столбцов** показывает диапазон значений интервала\n",
        "\n",
        "Пример - распределение оценок студентов на экзамене:\n",
        "\n",
        "![scores.png](attachment:scores.png)"
      ]
    },
    {
      "cell_type": "markdown",
      "metadata": {
        "id": "5z5fvQhU1vJB"
      },
      "source": [
        "#### **Точечные графики**"
      ]
    },
    {
      "cell_type": "markdown",
      "metadata": {
        "id": "NfmPpBNm1vJG"
      },
      "source": [
        "**Точечные графики** используются для визуализации **взаимосвязи** между двумя переменными. Они состоят из отдельных точек, где каждая точка на графике представляет одну наблюдаемую **пару значений**.\n",
        "\n",
        "Пример - зависимость количества часов, потраченных на подготовку, и полученной оценки на экзамене:\n",
        "\n",
        "![time_exam.png](attachment:time_exam.png)"
      ]
    },
    {
      "cell_type": "markdown",
      "metadata": {
        "id": "AB8RbMsf1vJG"
      },
      "source": [
        "#### **Сравнение графиков**"
      ]
    },
    {
      "cell_type": "markdown",
      "metadata": {
        "id": "qS-60KXM1vJH"
      },
      "source": [
        "| **Название**          | **Описание**                                 | **Когда лучше применять**                               |\n",
        "|-----------------------|----------------------------------------------|---------------------------------------------------------|\n",
        "| **Линейный график**   | Линия, соединяющая точки данных, отображает изменения или тренды | Для анализа трендов во времени, отслеживания изменений показателей или корреляции между переменными |\n",
        "| **Столбчатая диаграмма** | Набор вертикальных или горизонтальных столбцов, сравнивающих величины | Для сравнения категориальных данных (например, продажи по месяцам, рейтинг продуктов)                                  |\n",
        "| **Круговая диаграмма**| Круг, разделённый на сегменты, отображает долю каждой категории в общей сумме | Для демонстрации пропорций и долей, когда нужно показать состав целого (например, распределение бюджета)       |\n",
        "| **Гистограмма**       | Диаграмма, представляющая частотное распределение данных, где высота столбца показывает частоту| Для анализа распределения значений и выявления закономерностей|\n",
        "| **Точечный график**   | Набор точек на координатной плоскости, отображающих связь между двумя переменными | Для исследования взаимосвязей или корреляций между переменными (например, рост и вес, время и расстояние)              |\n"
      ]
    },
    {
      "cell_type": "markdown",
      "metadata": {
        "id": "Aq8fABy61vJH"
      },
      "source": [
        "### **Введение в Matplotlib**"
      ]
    },
    {
      "cell_type": "markdown",
      "metadata": {
        "id": "_qWXR_ze1vJM"
      },
      "source": [
        "https://matplotlib.org/ - сайт с официальной документацией"
      ]
    },
    {
      "cell_type": "code",
      "execution_count": null,
      "metadata": {
        "id": "nIkjIJxN1vJN"
      },
      "outputs": [],
      "source": [
        "%pip install matplotlib"
      ]
    },
    {
      "cell_type": "markdown",
      "metadata": {
        "id": "urLBV_AS1vJO"
      },
      "source": [
        "В `matplotlib` график строится **пошагово**:\n",
        "1) Готовим данные для визуализации\n",
        "2) Настраиваем оси и подписи\n",
        "3) Добавляем необходимые графические элементы\n",
        "4) Показываем график"
      ]
    },
    {
      "cell_type": "markdown",
      "metadata": {
        "id": "p6owmD2u1vJT"
      },
      "source": [
        "Для построения графиков будем использовать модуль `pyplot`, который является частью библиотеки `matplotlib`.\n",
        "\n",
        "Обычно при импортивании `matplotlib.pyplot` указывается псевдоним `plt`."
      ]
    },
    {
      "cell_type": "code",
      "execution_count": null,
      "metadata": {
        "id": "qCZo5M0F1vJT"
      },
      "outputs": [],
      "source": []
    },
    {
      "cell_type": "code",
      "execution_count": null,
      "metadata": {
        "id": "Ok3c1WfD1vJT"
      },
      "outputs": [],
      "source": [
        "# списки с точками для построения линейного графика\n"
      ]
    },
    {
      "cell_type": "markdown",
      "metadata": {
        "id": "eZK4Vs8w1vJU"
      },
      "source": [
        "#### **Основные функции для построения графика**"
      ]
    },
    {
      "cell_type": "markdown",
      "metadata": {
        "id": "YTohUCW81vJZ"
      },
      "source": [
        "Рассмотрим функции и их параметры, которые можно задавать при построении графика:"
      ]
    },
    {
      "cell_type": "markdown",
      "metadata": {
        "id": "EOeYYTtj1vJZ"
      },
      "source": [
        "`plt.plot()` - создание **линейных графиков**.\n",
        "- `label` - **название** линии на легенде графика\n",
        "- `marker` - отображение точек на графике с помощью специальных **маркеров**\n",
        "\n",
        "`plt.title()` - добавление **заголовка** графика\n",
        "\n",
        "`plt.xlabel()`, `plt.ylabel()` - отображение **подписей осей** X и Y соответственно\n",
        "\n",
        "`plt.legend()` - отображение **легенды**\n",
        "\n",
        "`plt.grid()` - отображение координатной **сетки**\n",
        "\n",
        "`plt.show()` - **демонстрация** визуализации"
      ]
    },
    {
      "cell_type": "code",
      "execution_count": null,
      "metadata": {
        "id": "wlXcOJOS1vJa"
      },
      "outputs": [],
      "source": []
    },
    {
      "cell_type": "markdown",
      "metadata": {
        "id": "DxGK2tyO1vJb"
      },
      "source": [
        "Построим графики функций `y = sin(x)` и `y = cos(x)`, одновременно отобразим их на координатной плоскости и посмотрим на дополнительные параметры настройки линейных графиков."
      ]
    },
    {
      "cell_type": "code",
      "execution_count": null,
      "metadata": {
        "id": "_k0faoAm1vJb"
      },
      "outputs": [],
      "source": [
        "# подключаем numpy для получения значений функций y = sin(x) и y = cos(x)\n"
      ]
    },
    {
      "cell_type": "code",
      "execution_count": null,
      "metadata": {
        "id": "feEW_jao1vJh"
      },
      "outputs": [],
      "source": [
        "# генерируем 100 равномерно распределенных точек для оси X\n"
      ]
    },
    {
      "cell_type": "code",
      "execution_count": null,
      "metadata": {
        "id": "Wyk-Jr_g1vJl"
      },
      "outputs": [],
      "source": [
        "# создаем массивы со значениями синусов и косинусов\n"
      ]
    },
    {
      "cell_type": "markdown",
      "metadata": {
        "id": "0pPy_v0P1vJm"
      },
      "source": [
        "#### **Дополнительные функции для построения графика**"
      ]
    },
    {
      "cell_type": "markdown",
      "metadata": {
        "id": "78q2yohi1vJt"
      },
      "source": [
        "`plt.figure()` - функция, создающая **контейнер** для одного или нескольких графиков\n",
        "- Параметр `figsize` задает размер фигуры в **дюймах** (1 дюйм ≈ 2.54 см)\n",
        "\n",
        "Для функции `plt.plot`:\n",
        "- Параметр `color` отвечает за **цвет** линии\n",
        "- Параметр `linestyle` отвечает за **стиль** линии\n",
        "\n",
        "Параметр `fontsize` отвечает за **размер шрифта** текста"
      ]
    },
    {
      "cell_type": "code",
      "execution_count": null,
      "metadata": {
        "id": "bH5kPGj-1vJz"
      },
      "outputs": [],
      "source": [
        "# создаем фигуру размером 10 дюймов по горизонтали и 6 по вертикали\n",
        "\n",
        "# создаем линейные графики для синуса и косинуса\n",
        "\n",
        "# настраиваем подписи\n",
        "\n",
        "# отображение сетки и графиков\n"
      ]
    },
    {
      "cell_type": "markdown",
      "metadata": {
        "id": "iW49_MJd1vJ0"
      },
      "source": [
        "### **Подготовка РНД для анализа**"
      ]
    },
    {
      "cell_type": "markdown",
      "metadata": {
        "id": "ljbPUpS41vJ7"
      },
      "source": [
        "Подключим библиотеку `pandas` и **загрузим** данные из файла `steam_game_reviews_v2.csv` в программу."
      ]
    },
    {
      "cell_type": "code",
      "execution_count": null,
      "metadata": {
        "id": "1wZuRhAO1vJ8"
      },
      "outputs": [],
      "source": []
    },
    {
      "cell_type": "code",
      "execution_count": null,
      "metadata": {
        "id": "dll808RH1vKR"
      },
      "outputs": [],
      "source": []
    },
    {
      "cell_type": "markdown",
      "metadata": {
        "id": "MjWRFrRb1vKS"
      },
      "source": [
        "Вспомним структуру файла с помощью функции `________`"
      ]
    },
    {
      "cell_type": "code",
      "execution_count": null,
      "metadata": {
        "id": "dPQ-My0J1vKS"
      },
      "outputs": [],
      "source": []
    },
    {
      "cell_type": "markdown",
      "metadata": {
        "id": "XMLMfMns1vKT"
      },
      "source": [
        "Помним, что в файле присутствуют **пропущенные** значения, которые могут мешать построению графиков. Посчитаем их с помощью конструкции `________` для каждого столбца."
      ]
    },
    {
      "cell_type": "code",
      "execution_count": null,
      "metadata": {
        "id": "IUuSbUYz1vKp"
      },
      "outputs": [],
      "source": []
    },
    {
      "cell_type": "markdown",
      "metadata": {
        "id": "1yPQTJsM1vKp"
      },
      "source": [
        "Удалим строки с пропусками при помощи метода `________`"
      ]
    },
    {
      "cell_type": "code",
      "execution_count": null,
      "metadata": {
        "id": "77C8nb7z1vKp"
      },
      "outputs": [],
      "source": []
    },
    {
      "cell_type": "markdown",
      "metadata": {
        "id": "ex9zVGsZ1vKq"
      },
      "source": [
        "Запустим заново ячейку с кодом `________` и увидим, что ..."
      ]
    },
    {
      "cell_type": "markdown",
      "metadata": {
        "id": "DZO7sk-z1vKw"
      },
      "source": [
        "### **Построение графиков для РНД**"
      ]
    },
    {
      "cell_type": "markdown",
      "metadata": {
        "id": "i5punxLe1vKw"
      },
      "source": [
        "#### **1. Линейный график**"
      ]
    },
    {
      "cell_type": "markdown",
      "metadata": {
        "id": "hqrOvkVp1vKx"
      },
      "source": [
        "Постройте линейный график, где на оси `Х` располагаются **даты отзыва** для игры **Subnautica** за **2015** год, на оси `Y` - средние значения полезности отзывов, сгруппированные по дате."
      ]
    },
    {
      "cell_type": "markdown",
      "metadata": {
        "id": "HXZNQvKD1vKx"
      },
      "source": [
        "Отдельно сохраним данные только по игре **Subnautica**"
      ]
    },
    {
      "cell_type": "code",
      "execution_count": null,
      "metadata": {
        "id": "FeURNsXu1vK3"
      },
      "outputs": [],
      "source": []
    },
    {
      "cell_type": "markdown",
      "metadata": {
        "id": "d4KG952W1vK4"
      },
      "source": [
        "Преобразуем даты в единый формат `YYYY-MM-DD` с помощью знакомой функции `________`"
      ]
    },
    {
      "cell_type": "code",
      "execution_count": null,
      "metadata": {
        "id": "6b4uP4vO1vK4"
      },
      "outputs": [],
      "source": []
    },
    {
      "cell_type": "markdown",
      "metadata": {
        "id": "cCKlkA8y1vK5"
      },
      "source": [
        "**Удалим** все пропущенные значения, появившиеся после преобразования дат"
      ]
    },
    {
      "cell_type": "code",
      "execution_count": null,
      "metadata": {
        "id": "CsWhW8gz1vK_"
      },
      "outputs": [],
      "source": []
    },
    {
      "cell_type": "markdown",
      "metadata": {
        "id": "0Mzhod5E1vK_"
      },
      "source": [
        "Оставим данные только за 2015 год при помощи свойства `________`"
      ]
    },
    {
      "cell_type": "code",
      "execution_count": null,
      "metadata": {
        "id": "j11GCpGy1vLA"
      },
      "outputs": [],
      "source": []
    },
    {
      "cell_type": "markdown",
      "metadata": {
        "id": "Oz59SEQ81vLA"
      },
      "source": [
        "Cгруппируем данные по дате с помощью метода `________` и атрибутов `________`, затем вычислим средние значения полезности для каждой даты с помощью метода `________`"
      ]
    },
    {
      "cell_type": "code",
      "execution_count": null,
      "metadata": {
        "id": "enpCq-ym1vLH"
      },
      "outputs": [],
      "source": []
    },
    {
      "cell_type": "markdown",
      "metadata": {
        "id": "vb9fyTN51vLI"
      },
      "source": [
        "Построим линейный график, где по оси Х будут **даты отзывов** (`индексы` из сгруппированной серии), а по оси Y - средние значения полезности (`значения` из сгруппированной серии)"
      ]
    },
    {
      "cell_type": "code",
      "execution_count": null,
      "metadata": {
        "id": "n4uew3u71vLJ"
      },
      "outputs": [],
      "source": []
    },
    {
      "cell_type": "markdown",
      "metadata": {
        "id": "HPuhmgwN1vLJ"
      },
      "source": [
        "**Выводы по графику**:"
      ]
    },
    {
      "cell_type": "markdown",
      "metadata": {
        "id": "PWD8HHb11vLK"
      },
      "source": [
        "#### **2. Столбчатая диаграмма**"
      ]
    },
    {
      "cell_type": "markdown",
      "metadata": {
        "id": "mv6RD7uv1vLP"
      },
      "source": [
        "Постройте столбчатую диаграмму, которая отображает **количество отзывов** по играм Hades, Terraria, Raft и Portal 2 за **2022** год."
      ]
    },
    {
      "cell_type": "markdown",
      "metadata": {
        "id": "g6uN-lov1vLQ"
      },
      "source": [
        "Сохраним данные только по указанным играм с помощью метода `________`"
      ]
    },
    {
      "cell_type": "code",
      "execution_count": null,
      "metadata": {
        "id": "zctXqyIz1vLQ"
      },
      "outputs": [],
      "source": []
    },
    {
      "cell_type": "markdown",
      "metadata": {
        "id": "NAfVhp4Y1vLQ"
      },
      "source": [
        "Преобразуем даты в единый формат"
      ]
    },
    {
      "cell_type": "code",
      "execution_count": null,
      "metadata": {
        "id": "ecGiXgaT1vLW"
      },
      "outputs": [],
      "source": []
    },
    {
      "cell_type": "markdown",
      "metadata": {
        "id": "4KxqWkWh1vLW"
      },
      "source": [
        "Удалим появившиеся пропущенные значения"
      ]
    },
    {
      "cell_type": "code",
      "execution_count": null,
      "metadata": {
        "id": "MEZB5j3u1vLW"
      },
      "outputs": [],
      "source": []
    },
    {
      "cell_type": "markdown",
      "metadata": {
        "id": "rhqfpUSP1vLX"
      },
      "source": [
        "Оставим данные только за **2022** год"
      ]
    },
    {
      "cell_type": "code",
      "execution_count": null,
      "metadata": {
        "id": "nmixlEaw1vLc"
      },
      "outputs": [],
      "source": []
    },
    {
      "cell_type": "markdown",
      "metadata": {
        "id": "eNTsvVuW1vLd"
      },
      "source": [
        "Подсчитываем и сохраняем в отдельную **серию** количества отзывов для каждой игры"
      ]
    },
    {
      "cell_type": "code",
      "execution_count": null,
      "metadata": {
        "id": "K7bXwYCW1vLd"
      },
      "outputs": [],
      "source": []
    },
    {
      "cell_type": "markdown",
      "metadata": {
        "id": "ZXOQER4P1vLe"
      },
      "source": [
        "##### **Функции plt.bar(), plt.text() и plt.xticks()**"
      ]
    },
    {
      "cell_type": "markdown",
      "metadata": {
        "id": "ixE3tTqz1vLj"
      },
      "source": [
        "`plt.bar()` - функция для построения столбчатой диаграммы\n",
        "- `x` - значения столбцов по оси X\n",
        "- `height` - высота столбцов по оси Y\n",
        "- `color` - цвет графика\n",
        "\n",
        "`plt.text()` - функция для отображения текста на графике\n",
        "- `x` - координата по оси X, где будет отображаться текст\n",
        "- `y` - координата по оси Y, где будет отображаться текст\n",
        "- `s` - значение, которое будет отображаться на графике\n",
        "- `ha` - горизонтальное выравнивание текста\n",
        "- `va` - вертикальное выравнивание текста\n",
        "- `fontsize` - размер шрифта\n",
        "\n",
        "`plt.xticks()` - управление ориентацией меток на оси Х. `rotation=0` означает, что метки на оси Х будут выведены **горизонтально**, то есть без поворота."
      ]
    },
    {
      "cell_type": "code",
      "execution_count": null,
      "metadata": {
        "id": "ASPpckqM1vLk"
      },
      "outputs": [],
      "source": [
        "# создание фигуры для построения столбчатой диаграммы\n",
        "\n",
        "# строим столбчатую диаграмму на основе данных reviews_count\n",
        "\n",
        "# отображаем конкретные числа на столбцах диаграммы\n",
        "\n",
        "# добавление подписей и меток\n",
        "\n",
        "# демонстрация графика\n"
      ]
    },
    {
      "cell_type": "markdown",
      "metadata": {
        "id": "6s3E0AUJ1vLm"
      },
      "source": [
        "**Выводы по графику**:"
      ]
    },
    {
      "cell_type": "markdown",
      "metadata": {
        "id": "213Khxa_1vLm"
      },
      "source": [
        "#### **3. Круговая диаграмма**"
      ]
    },
    {
      "cell_type": "markdown",
      "metadata": {
        "id": "hbumiyuZ1vLs"
      },
      "source": [
        "Постройте на одном графике **4 круговые диаграммы**, отображающие в процентах **рекомендации** для игр `Hades`, `Terraria`, `Raft` и `Portal 2`."
      ]
    },
    {
      "cell_type": "markdown",
      "metadata": {
        "id": "aKfVLsY01vLs"
      },
      "source": [
        "##### **Функции plt.subplots(), pie(), set_title() и plt.tight_layout()**"
      ]
    },
    {
      "cell_type": "markdown",
      "metadata": {
        "id": "58SIJLN-1vLs"
      },
      "source": [
        "`plt.subplots()` - функция для создания фигуры и нескольких графиков, которые будут расположены в виде сетки.\n",
        "- `nrows` - количество **строк** в сетке\n",
        "- `ncols` - количество **столбцов** в сетке\n",
        "- `figsize` - размер фигуры в дюймах\n",
        "\n",
        "`plt.subplots()` возвращает 2 значения - `figure` (контейнер для графиков) и `axes` (список подграфиков)\n",
        "\n",
        "`axes` - это **список** объектов, представляющий собой отдельные подграфики.\n",
        "\n",
        "`pie()` - функция, которая строит **круговую диаграмму**\n",
        "- `x` - набор данных, который будет отображаться на диаграмме\n",
        "- `labels` - список меток для секторов диаграммы\n",
        "- `autopct` - формат числовых значений в процентах внутри секторов\n",
        "- `startangle` - угол, на котором начинается круговая диаграмма\n",
        "\n",
        "`set_title()` - функция, которая устанавливает **заголовок** для конкретного подграфика:\n",
        "- `label` - строка текста, которая отражается в качестве **заголовка** графика\n",
        "- `fontweight` - устанавливает **толщину шрифта** для заголовка\n",
        "\n",
        "`plt.tight_layout()` - функция для автоматической настройки отступов между подграфиками, чтобы они не перекрывались"
      ]
    },
    {
      "cell_type": "code",
      "execution_count": null,
      "metadata": {
        "id": "m-umLoBH1vLy"
      },
      "outputs": [],
      "source": [
        "# создаем фигуру  и список с подграфиками\n",
        "\n",
        "# создаем круговую диаграмму для каждой игры\n",
        "\n",
        "    # получаем строки для конкретной игры\n",
        "\n",
        "    # подсчитываем количество строк с отзывами игры\n",
        "\n",
        "    # строим круговую диаграмму для конкретной игры\n",
        "\n",
        "    # отображаем название диаграммы\n",
        "\n",
        "\n",
        "# оптимизация отображения и демонстрация графика\n"
      ]
    },
    {
      "cell_type": "markdown",
      "metadata": {
        "id": "H9jmv1DQ1vLz"
      },
      "source": [
        "**Выводы по графику**:"
      ]
    }
  ],
  "metadata": {
    "kernelspec": {
      "display_name": "Python 3",
      "language": "python",
      "name": "python3"
    },
    "language_info": {
      "codemirror_mode": {
        "name": "ipython",
        "version": 3
      },
      "file_extension": ".py",
      "mimetype": "text/x-python",
      "name": "python",
      "nbconvert_exporter": "python",
      "pygments_lexer": "ipython3",
      "version": "3.12.6"
    },
    "colab": {
      "provenance": []
    }
  },
  "nbformat": 4,
  "nbformat_minor": 0
}